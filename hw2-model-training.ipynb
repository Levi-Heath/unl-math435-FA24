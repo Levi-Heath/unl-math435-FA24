{
 "cells": [
  {
   "cell_type": "markdown",
   "metadata": {},
   "source": [
    "# HW 2: Model Training\n",
    "\n",
    "This assignment will guide you through training your first artificial neural networks in Python. It will also introduce you to TensorFlow--an open-source programming package developed by Google for machine learning.\n",
    "\n",
    "Please use this Jupyter Notebook to complete all the problems below. Save this file as \"hw2-LastName-FirstName.ipynb\" and submit it to Canvas."
   ]
  },
  {
   "cell_type": "markdown",
   "metadata": {},
   "source": [
    "## Problem 1: Regression\n",
    "\n",
    "Let's start with the following dataset:\n"
   ]
  }
 ],
 "metadata": {
  "kernelspec": {
   "display_name": "Python 3",
   "language": "python",
   "name": "python3"
  },
  "language_info": {
   "name": "python",
   "version": "3.12.1"
  }
 },
 "nbformat": 4,
 "nbformat_minor": 2
}
