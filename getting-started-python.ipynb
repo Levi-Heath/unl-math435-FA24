{
 "cells": [
  {
   "cell_type": "markdown",
   "metadata": {},
   "source": [
    "# Getting Started"
   ]
  },
  {
   "cell_type": "markdown",
   "metadata": {},
   "source": [
    "This Jupyter Notebook introduces the basic tools for digital image processing using the Python programming language. It is adapted from Aleksander Rognhaugen's GitHub repository [aleksaro/digital-image-processing-intro](https://github.com/aleksaro/digital-image-processing-intro)."
   ]
  },
  {
   "cell_type": "markdown",
   "metadata": {},
   "source": [
    "The notebook assumes that the following Python packages have been installed:\n",
    "\n",
    "* [NumPy](http://www.numpy.org/)\n",
    "* [imageio](https://imageio.github.io/)\n",
    "* [matplotlib](http://matplotlib.org/)\n",
    "\n",
    "If you are new to Jupyter notebook, then please have a look at the [Jupyter](https://jupyter.org/) website. Though, double clicking the Markdown and Python Code blocks in this document will most likely be more than enough to get you started! "
   ]
  },
  {
   "cell_type": "markdown",
   "metadata": {},
   "source": [
    "This is a Jupyter Notebook! Jupyter Notebooks are helpful for organizing and presenting text, code, and output of code in a single document. Let's start with an example. Below is the definition of a function in Python code."
   ]
  },
  {
   "cell_type": "code",
   "execution_count": null,
   "metadata": {},
   "outputs": [],
   "source": [
    "def fib(n):\n",
    "    # inputs:   n -- positive integer\n",
    "    # output:   F -- positive integer\n",
    "    #               nth term in the Fibonacci sequence\n",
    "    if isinstance(n,int) != True and n > 0:\n",
    "        raise ValueError('ERROR: The fuction fib() is only defined for positive integers. Value entered is not a positive integer.')\n",
    "    if n < 2:\n",
    "        F = n\n",
    "    else:\n",
    "        F =  fib(n - 1) + fib(n - 2)\n",
    "    return F\n",
    "\n",
    "print('The 6th term in the Fibonacci sequence is',fib(6))\n",
    "\n",
    "print('We can also print multiple terms in the Fibonacci sequence using the predefined Python functions list, map, and range.')\n",
    "list(map(fib, range(15)))"
   ]
  },
  {
   "cell_type": "markdown",
   "metadata": {},
   "source": [
    "### Exercise\n",
    "Answer the questions below based on the code block above.\n",
    "\n",
    "(a) What does the symbol \"#\" do?\n",
    "\n",
    "**Answer:** *Delete this text and type your answer here.*\n",
    "\n",
    "(b) What happens if you try to compute <code>fib(-2)</code> or <code>fib(.5)</code>?\n",
    "\n",
    "**Answer:** *Delete this text and type your answer here.*\n",
    "\n",
    "(c) Briefly explain what the <code>range</code>, <code>map</code>, and <code>list</code> functions do.\n",
    "\n",
    "**Answer:** *Delete this text and type your answer here.*"
   ]
  },
  {
   "cell_type": "markdown",
   "metadata": {},
   "source": [
    "### Exercise\n",
    "Define a function called <code>PracFun</code> below that takes as input two numbers and returns their sum if the two numbers are both positive or both negative and their product otherwise. Then display the output of <code>PracFun(11,25)</code>, <code>PracFun(-7,-113)</code>, and <code>PracFun(5,-18)</code>."
   ]
  },
  {
   "cell_type": "code",
   "execution_count": null,
   "metadata": {},
   "outputs": [],
   "source": []
  },
  {
   "cell_type": "markdown",
   "metadata": {},
   "source": [
    "## NumPy"
   ]
  },
  {
   "cell_type": "markdown",
   "metadata": {},
   "source": [
    "NumPy is a commonly used Python package that adds n-dimensional array objects and several tools for working with them. For MATLAB users wanting to use Python, we recommend taking a look at the [NumPy_for_Matlab_Users](http://scipy.github.io/old-wiki/pages/NumPy_for_Matlab_Users) tutorial.\n",
    "\n",
    "The n-dimensional array, or [`numpy.ndarray`](https://docs.scipy.org/doc/numpy-dev/reference/generated/numpy.ndarray.html), is the fundamental component of both NumPy. This section outlines some of the basic routines that can be done using these arrays."
   ]
  },
  {
   "cell_type": "markdown",
   "metadata": {},
   "source": [
    "As with all Python packages: they have to be imported before use. NumPy is no different, and the most common way to import it can be seen below:"
   ]
  },
  {
   "cell_type": "code",
   "execution_count": 51,
   "metadata": {
    "collapsed": true
   },
   "outputs": [],
   "source": [
    "import numpy as np"
   ]
  },
  {
   "cell_type": "markdown",
   "metadata": {},
   "source": [
    "### Arrays"
   ]
  },
  {
   "cell_type": "markdown",
   "metadata": {},
   "source": [
    "NumPy arrays can be initialised in several different ways. The two most common ways are: (i) create them from, possibly nested, Python lists and (ii) create vectors and matrices of all zeros, ones, or a constant value.\n",
    "\n",
    "Here we create an array with rank 1 from a Python list using the [`numpy.array`](https://docs.scipy.org/doc/numpy-dev/reference/generated/numpy.array.html) function:"
   ]
  },
  {
   "cell_type": "code",
   "execution_count": null,
   "metadata": {},
   "outputs": [],
   "source": [
    "np.array([[1,2,3,4],[5,6,7,8]])"
   ]
  },
  {
   "cell_type": "markdown",
   "metadata": {},
   "source": [
    "The rank of a NumPy array is simply the number of dimensions of the array.\n",
    "\n",
    "While creating the array, we can specify its data type. For example:"
   ]
  },
  {
   "cell_type": "code",
   "execution_count": null,
   "metadata": {},
   "outputs": [],
   "source": [
    "np.array([1,2,3,4,5,6,7,8,9], dtype=np.int8)     # 8-bit integer (-128 to 127)"
   ]
  },
  {
   "cell_type": "code",
   "execution_count": null,
   "metadata": {},
   "outputs": [],
   "source": [
    "np.array([1,2,3,4,5,6,7,8,9], dtype=np.uint8)    # 8-bit unsigned integer (0 to 255) -- helpful for RGB values"
   ]
  },
  {
   "cell_type": "code",
   "execution_count": null,
   "metadata": {
    "scrolled": true
   },
   "outputs": [],
   "source": [
    "np.array([1,2,3,4,5,6,7,8,9], dtype=np.float32)  # 32-bit single precision float"
   ]
  },
  {
   "cell_type": "markdown",
   "metadata": {},
   "source": [
    "The [`numpy.iinfo`](https://docs.scipy.org/doc/numpy-dev/reference/generated/numpy.iinfo.html) and [`numpy.finfo`](https://docs.scipy.org/doc/numpy-dev/reference/generated/numpy.finfo.html) functions can be used to inspect the machine limits for integer and floating point types, respectively. For instance:"
   ]
  },
  {
   "cell_type": "code",
   "execution_count": null,
   "metadata": {},
   "outputs": [],
   "source": [
    "print('int8: [{}, {}]'.format(np.iinfo(np.int8).min, np.iinfo(np.int8).max))\n",
    "print('float32: [{:.0f}, {:.0f}]'.format(np.finfo(np.float32).min, np.finfo(np.float32).max))"
   ]
  },
  {
   "cell_type": "markdown",
   "metadata": {},
   "source": [
    "Here's an example showcasing what happens when we try to create an array with numbers outside of what the data type expects."
   ]
  },
  {
   "cell_type": "code",
   "execution_count": null,
   "metadata": {},
   "outputs": [],
   "source": [
    "np.array([-300, -50, -1, 0, 1, 50, 300], dtype=np.uint8)"
   ]
  },
  {
   "cell_type": "markdown",
   "metadata": {},
   "source": [
    "Unsurprisingly, we get integer overflow."
   ]
  },
  {
   "cell_type": "markdown",
   "metadata": {},
   "source": [
    "It is generally a good idea to explicitly state the type when working with any kind of non-trivial data.\n",
    "\n",
    "Below are several examples where arrays are created using the [`numpy.zeros`](https://docs.scipy.org/doc/numpy-dev/reference/generated/numpy.zeros.html), [`numpy.ones`](https://docs.scipy.org/doc/numpy-dev/reference/generated/numpy.ones.html), and [`numpy.full`](https://docs.scipy.org/doc/numpy-dev/reference/generated/numpy.full.html) functions. Each is created using a tuple that describe the shape of the desired array. The elements of these tuples are the number of rows and columns, respectively."
   ]
  },
  {
   "cell_type": "code",
   "execution_count": null,
   "metadata": {},
   "outputs": [],
   "source": [
    "np.zeros((1,3))  # 1x3 row vector of zeros"
   ]
  },
  {
   "cell_type": "code",
   "execution_count": null,
   "metadata": {},
   "outputs": [],
   "source": [
    "np.zeros((3,1), dtype=np.float32)  # 3x1 column vector of zeros with an explicit data type "
   ]
  },
  {
   "cell_type": "code",
   "execution_count": null,
   "metadata": {},
   "outputs": [],
   "source": [
    "np.ones((3,3))  # 3x3 matrix of ones"
   ]
  },
  {
   "cell_type": "code",
   "execution_count": null,
   "metadata": {},
   "outputs": [],
   "source": [
    "np.full((5,5), 4, dtype=np.int8)  # 5x5 matrix with the constant value 4"
   ]
  },
  {
   "cell_type": "markdown",
   "metadata": {},
   "source": [
    "The [`numpy.eye`](https://docs.scipy.org/doc/numpy-dev/reference/generated/numpy.eye.html) function can be used to create arbitrary identity matrices."
   ]
  },
  {
   "cell_type": "code",
   "execution_count": null,
   "metadata": {},
   "outputs": [],
   "source": [
    "np.eye(4)  # 4x4 identity matrix"
   ]
  },
  {
   "cell_type": "markdown",
   "metadata": {},
   "source": [
    "It is also possible to create arrays with random values (for example [`numpy.random.random`](https://docs.scipy.org/doc/numpy-dev/reference/generated/numpy.random.random.html)):"
   ]
  },
  {
   "cell_type": "code",
   "execution_count": null,
   "metadata": {},
   "outputs": [],
   "source": [
    "np.random.random((3,4))  # 3x4 matrix with uniformly sampled values from the interval [0.0, 1.0)"
   ]
  },
  {
   "cell_type": "markdown",
   "metadata": {},
   "source": [
    "### Array indexing"
   ]
  },
  {
   "cell_type": "markdown",
   "metadata": {},
   "source": [
    "NumPy arrays are indexed using standard Python syntax, e.g. `x[i]`, where `x` is an array and `i` is the element we are interested in. **Indexing in Python is 0-based, which means that indexing starts from `0`.** Let's create a vector and a matrix and see how it can be indexed. Notice how the array `mat` is initialised with a nested Python list."
   ]
  },
  {
   "cell_type": "code",
   "execution_count": 26,
   "metadata": {
    "collapsed": true
   },
   "outputs": [],
   "source": [
    "vec = np.array([1,2,3,4,5,6], np.uint8)\n",
    "\n",
    "mat = np.array([[1, 2, 3, 4],\n",
    "                [5, 6, 7, 8],\n",
    "                [9,10,11,12]], dtype=np.uint8)"
   ]
  },
  {
   "cell_type": "markdown",
   "metadata": {},
   "source": [
    "Each element can be indexed like this:"
   ]
  },
  {
   "cell_type": "code",
   "execution_count": null,
   "metadata": {},
   "outputs": [],
   "source": [
    "vec[4]  # Fifth element"
   ]
  },
  {
   "cell_type": "code",
   "execution_count": null,
   "metadata": {},
   "outputs": [],
   "source": [
    "mat[2,1]  # Third row, second column"
   ]
  },
  {
   "cell_type": "markdown",
   "metadata": {},
   "source": [
    "Notice that for matrices, the first element denotes the row, while the second denotes the column.\n",
    "\n",
    "NumPy arrays can be sliced by passing a *slice* object which has the following form: `start:stop:stride`. For example:"
   ]
  },
  {
   "cell_type": "code",
   "execution_count": null,
   "metadata": {},
   "outputs": [],
   "source": [
    "vec[0:3]  # Only start and stop is used, the stride is 1"
   ]
  },
  {
   "cell_type": "code",
   "execution_count": null,
   "metadata": {},
   "outputs": [],
   "source": [
    "vec[0:6:2]  # View every second element, starting from the first"
   ]
  },
  {
   "cell_type": "code",
   "execution_count": null,
   "metadata": {},
   "outputs": [],
   "source": [
    "mat[1:3, 2:4]  # View second to third row + third to fourth column"
   ]
  },
  {
   "cell_type": "code",
   "execution_count": null,
   "metadata": {},
   "outputs": [],
   "source": [
    "mat[0:3:2,0:4:2]  # View every second row and column"
   ]
  },
  {
   "cell_type": "markdown",
   "metadata": {},
   "source": [
    "When the colon operator `:` is used alone, it allows you to retrieve all elements in a particular dimension."
   ]
  },
  {
   "cell_type": "code",
   "execution_count": null,
   "metadata": {},
   "outputs": [],
   "source": [
    "mat[1,:]"
   ]
  },
  {
   "cell_type": "markdown",
   "metadata": {},
   "source": [
    "Negative indices can be used to index an array backwards."
   ]
  },
  {
   "cell_type": "code",
   "execution_count": null,
   "metadata": {},
   "outputs": [],
   "source": [
    "vec[-1]"
   ]
  },
  {
   "cell_type": "code",
   "execution_count": null,
   "metadata": {},
   "outputs": [],
   "source": [
    "mat[-1, -1]"
   ]
  },
  {
   "cell_type": "markdown",
   "metadata": {},
   "source": [
    "### Exercise\n",
    "\n",
    "Define the matrix \n",
    "$$A = \\left[\\begin{array}{rrr}\n",
    "    0 & -1 & 4 \\\\\n",
    "    -2 & 5 & 1 \\\\\n",
    "    7 & 0 & 9\n",
    "\\end{array}\\right]$$\n",
    "Write code to do the following:\n",
    "\n",
    "<ol>\n",
    "    <li> Print the entry in the last row and first column. </li>\n",
    "    <li> Print the first row. </li>\n",
    "    <li> Print the second column. </li>\n",
    "    <li> Print the <m>(1,1)</m>-minor. </li>\n",
    "</ol>"
   ]
  },
  {
   "cell_type": "code",
   "execution_count": null,
   "metadata": {},
   "outputs": [],
   "source": []
  },
  {
   "cell_type": "markdown",
   "metadata": {},
   "source": [
    "### Basic operations"
   ]
  },
  {
   "cell_type": "markdown",
   "metadata": {},
   "source": [
    "Let's define a NumPy array called `matrix` and see if we can perform some operations on it."
   ]
  },
  {
   "cell_type": "code",
   "execution_count": null,
   "metadata": {},
   "outputs": [],
   "source": [
    "matrix = np.array([[1,2,3,4],[5,6,7,8],[9,10,11,12],[13,14,15,16]], dtype=np.uint8)\n",
    "print(matrix)"
   ]
  },
  {
   "cell_type": "markdown",
   "metadata": {},
   "source": [
    "NumPy arrays have a slew of attributes that can be useful when you want more information about an array.\n",
    "\n",
    "[`numpy.ndarray.shape`](https://docs.scipy.org/doc/numpy-dev/reference/generated/numpy.ndarray.shape.html) returns a tuple with the array shape."
   ]
  },
  {
   "cell_type": "code",
   "execution_count": null,
   "metadata": {},
   "outputs": [],
   "source": [
    "matrix.shape"
   ]
  },
  {
   "cell_type": "markdown",
   "metadata": {},
   "source": [
    "[`numpy.ndarray.ndim`](https://docs.scipy.org/doc/numpy-dev/reference/generated/numpy.ndarray.ndim.html) returns the number of dimensions (often referred to as *rank*)."
   ]
  },
  {
   "cell_type": "code",
   "execution_count": null,
   "metadata": {},
   "outputs": [],
   "source": [
    "matrix.ndim"
   ]
  },
  {
   "cell_type": "markdown",
   "metadata": {},
   "source": [
    "[`numpy.ndarray.size`](https://docs.scipy.org/doc/numpy-dev/reference/generated/numpy.ndarray.size.html) returns the total number of elements."
   ]
  },
  {
   "cell_type": "code",
   "execution_count": null,
   "metadata": {},
   "outputs": [],
   "source": [
    "matrix.size"
   ]
  },
  {
   "cell_type": "markdown",
   "metadata": {},
   "source": [
    "[`numpy.ndarray.dtype`](https://docs.scipy.org/doc/numpy-dev/reference/generated/numpy.ndarray.dtype.html) returns the data type"
   ]
  },
  {
   "cell_type": "code",
   "execution_count": null,
   "metadata": {},
   "outputs": [],
   "source": [
    "matrix.dtype"
   ]
  },
  {
   "cell_type": "markdown",
   "metadata": {},
   "source": [
    "NumPy arrays can be *reshaped* to some other shape using [`numpy.reshape`](https://docs.scipy.org/doc/numpy-dev/reference/generated/numpy.reshape.html) or [`numpy.ndarray.reshape`](https://docs.scipy.org/doc/numpy-dev/reference/generated/numpy.ndarray.reshape.html). The total number of elements in the reshaped array must, of course, remain the same."
   ]
  },
  {
   "cell_type": "code",
   "execution_count": null,
   "metadata": {},
   "outputs": [],
   "source": [
    "np.reshape(matrix, (2, 8))"
   ]
  },
  {
   "cell_type": "markdown",
   "metadata": {},
   "source": [
    "Additionally, an array can be flattened to a 1D vector by using either [`numpy.ravel`](https://docs.scipy.org/doc/numpy-dev/reference/generated/numpy.ravel.html) or [`numpy.ndarray.flatten`](https://docs.scipy.org/doc/numpy-dev/reference/generated/numpy.ndarray.flatten.html)."
   ]
  },
  {
   "cell_type": "code",
   "execution_count": null,
   "metadata": {},
   "outputs": [],
   "source": [
    "np.ravel(matrix)"
   ]
  },
  {
   "cell_type": "markdown",
   "metadata": {},
   "source": [
    "The data type of an array can be changed using the [`numpy.ndarray.astype`](https://docs.scipy.org/doc/numpy-dev/reference/generated/numpy.ndarray.astype.html) function. This is very useful when you, for instance, have read data in a data type you do not want to use, or want to apply an operation that would better fit a different data type."
   ]
  },
  {
   "cell_type": "code",
   "execution_count": null,
   "metadata": {},
   "outputs": [],
   "source": [
    "matrix.astype(np.float32)"
   ]
  },
  {
   "cell_type": "markdown",
   "metadata": {},
   "source": [
    "An array can be transposed using [`numpy.transpose`](https://docs.scipy.org/doc/numpy-dev/reference/generated/numpy.transpose.html) or[`numpy.ndarray.T`](https://docs.scipy.org/doc/numpy-dev/reference/generated/numpy.ndarray.T.html)."
   ]
  },
  {
   "cell_type": "code",
   "execution_count": null,
   "metadata": {},
   "outputs": [],
   "source": [
    "matrix.T"
   ]
  },
  {
   "cell_type": "markdown",
   "metadata": {},
   "source": [
    "**Note:** Arrays of rank 1 must be promoted to rank 2 before transpose will work as intended."
   ]
  },
  {
   "cell_type": "code",
   "execution_count": null,
   "metadata": {},
   "outputs": [],
   "source": [
    "vec = np.array([1,2,3])\n",
    "print('Shape before', vec.shape, ', Shape after', vec.T.shape)\n",
    "print(vec.T)  # Nothing seems to happen\n",
    "\n",
    "vec2 = vec[np.newaxis, :]\n",
    "print('\\nShape before', vec2.shape, ', Shape after', vec2.T.shape)\n",
    "print(vec2.T)  # Transpose works as intended"
   ]
  },
  {
   "cell_type": "markdown",
   "metadata": {},
   "source": [
    "### Exercise\n",
    "\n",
    "Practice with more operations. Define two nonzero $2\\times 3$ and one $3\\times 4$ matrices. Label the matrices <code>A</code>, <code>B</code>, and <code>C</code>. Compute the following operations and next to each operation in your code write a comment describing the operation.\n",
    "\n",
    "<ol>\n",
    "    <li> <code>5+2</code> </li>\n",
    "    <li> <code>5*2</code> </li>\n",
    "    <li> <code>5**2</code> </li>\n",
    "    <li> <code>5/2</code> </li>\n",
    "    <li> <code>5//2</code> </li>\n",
    "    <li> <code>A+2</code> </li>\n",
    "    <li> <code>A*2</code> </li>\n",
    "    <li> <code>A**2</code> </li>\n",
    "    <li> <code>A/2</code> </li>\n",
    "    <li> <code>A//2</code> </li>\n",
    "    <li> <code>A*B</code> </li>\n",
    "    <li> <code>np.sqrt(A)</code> </li>\n",
    "    <li> <code>np.dot(A, C)</code> </li>\n",
    "    <li> <code>np.dot([1,2,3], [2,2,2])</code> </li>\n",
    "</ol>"
   ]
  },
  {
   "cell_type": "code",
   "execution_count": null,
   "metadata": {},
   "outputs": [],
   "source": []
  },
  {
   "cell_type": "markdown",
   "metadata": {},
   "source": [
    "Be sure to check out the [full overview](https://docs.scipy.org/doc/numpy/reference/routines.math.html) over all of the basic mathematical operations that can be applied to NumPy arrays."
   ]
  },
  {
   "cell_type": "markdown",
   "metadata": {},
   "source": [
    "## Basic plotting with matplotlib"
   ]
  },
  {
   "cell_type": "markdown",
   "metadata": {},
   "source": [
    "The most common way to interface with matplotlib is by importing [`matplotlib.pyplot`](https://matplotlib.org/api/pyplot_api.html). `%matplotlib inline` is a Jupyter notebook command which allow us to plot inline and is not to be used in a regular Python script."
   ]
  },
  {
   "cell_type": "code",
   "execution_count": 48,
   "metadata": {
    "collapsed": true
   },
   "outputs": [],
   "source": [
    "%matplotlib inline\n",
    "import matplotlib.pyplot as plt"
   ]
  },
  {
   "cell_type": "markdown",
   "metadata": {},
   "source": [
    "Let's plot a simple line. The [`numpy.linspace`](https://docs.scipy.org/doc/numpy-dev/reference/generated/numpy.linspace.html) function returns a NumPy array with evenly spaced numbers over a specified interval."
   ]
  },
  {
   "cell_type": "code",
   "execution_count": null,
   "metadata": {},
   "outputs": [],
   "source": [
    "xs = np.linspace(0, 5, 6)  # 6 points between 0 and 5\n",
    "print('f: {} -> {}'.format(xs, xs))\n",
    "\n",
    "plt.figure()\n",
    "plt.plot(xs, xs)\n",
    "plt.title('A line')\n",
    "plt.xlabel('X')\n",
    "plt.ylabel('Y')\n",
    "plt.show()"
   ]
  },
  {
   "cell_type": "markdown",
   "metadata": {},
   "source": [
    "Here is another example where we superimpose two sinusoidal curves."
   ]
  },
  {
   "cell_type": "code",
   "execution_count": null,
   "metadata": {},
   "outputs": [],
   "source": [
    "xs = np.linspace(0, 4*np.pi, 100)  # 100 points in the interval [0 and 4*pi]\n",
    "ys_sin = np.sin(xs)\n",
    "ys_cos = np.cos(xs)\n",
    "\n",
    "plt.figure()\n",
    "plt.plot(xs, ys_sin, label='Sine')\n",
    "plt.plot(xs, ys_cos, label='Cosine')\n",
    "plt.xlim(-1, 4*np.pi)  # Limit what is displayed in the x direction\n",
    "plt.legend()  # Requires that each curve has a label\n",
    "plt.grid(linestyle='dashed')\n",
    "plt.show()"
   ]
  },
  {
   "cell_type": "markdown",
   "metadata": {},
   "source": [
    "Arbitrary functions can be plotted as well. For example, a 1D [Gaussian distribution](https://en.wikipedia.org/wiki/Normal_distribution): $\\frac{1}{\\sqrt{2\\pi\\sigma^2}}e^{-\\frac{(x-\\mu)^2}{2\\sigma^2}}$."
   ]
  },
  {
   "cell_type": "code",
   "execution_count": null,
   "metadata": {},
   "outputs": [],
   "source": [
    "xs = np.linspace(-4, 4, 100)  # 100 points between -4 and 4\n",
    "\n",
    "sigma = 1.0\n",
    "mu = 0.0\n",
    "ys = np.exp(-(xs - mu)**2 / (2 * sigma**2))\n",
    "ys /= np.sqrt(2 * np.pi * sigma**2)\n",
    "\n",
    "plt.figure()\n",
    "plt.plot(xs, ys, linestyle='dashed', color='black')\n",
    "plt.show()"
   ]
  },
  {
   "cell_type": "markdown",
   "metadata": {},
   "source": [
    "As before, plots can be superimposed. Here we let the Gaussian probability density function be an anonymous function to make it easier for us to create several plots."
   ]
  },
  {
   "cell_type": "code",
   "execution_count": null,
   "metadata": {},
   "outputs": [],
   "source": [
    "normal = lambda xs, mu, sigma: np.exp(-(xs - mu)**2 / (2 * sigma**2)) / np.sqrt(2 * np.pi * sigma**2)\n",
    "\n",
    "xs = np.linspace(-5, 5, 100)\n",
    "\n",
    "plt.figure()\n",
    "plt.plot(xs, normal(xs, 0.0, 1.0), linestyle='solid',\n",
    "         color='black', label=r'$\\mu=0.0,\\quad\\sigma=1.0$')\n",
    "plt.plot(xs, normal(xs, 0.0, 1.5), linestyle='dotted',\n",
    "         color='black', label=r'$\\mu=0.0,\\quad\\sigma=1.5$')\n",
    "plt.plot(xs, normal(xs, 2.0, 0.5), linestyle='dashed',\n",
    "         color='black', label=r'$\\mu=2.0,\\quad\\sigma=0.5$')\n",
    "plt.xticks(np.arange(-5, 5+1))\n",
    "plt.legend()\n",
    "plt.show()"
   ]
  },
  {
   "cell_type": "markdown",
   "metadata": {},
   "source": [
    "### Exercise\n",
    "\n",
    "In a single graph, plot the the contours $f(x,y)=0.5,1,2,4$ of the function $f(x,y)=x^2+y^2$."
   ]
  },
  {
   "cell_type": "code",
   "execution_count": null,
   "metadata": {},
   "outputs": [],
   "source": []
  },
  {
   "cell_type": "markdown",
   "metadata": {},
   "source": [
    "### Exercise\n",
    "\n",
    "Often, you may want to do something that you are unsure how to do. Fortunately, there are many resources available to us on the internet. Create a 3-dimensional plot of $f(x,y)=x^2+y^2$ for $-4\\leq x,y\\leq 4$. \n",
    "\n",
    "*Hint:* Try using ChatGPT to write the code for you."
   ]
  },
  {
   "cell_type": "code",
   "execution_count": null,
   "metadata": {},
   "outputs": [],
   "source": []
  },
  {
   "cell_type": "markdown",
   "metadata": {},
   "source": [
    "## Reading and writing images"
   ]
  },
  {
   "cell_type": "markdown",
   "metadata": {},
   "source": [
    "Many Python libraries that offer reading and writing of images simply use the API provided by *PIL* (Python Imaging Library) or the more recent fork: *Pillow*. In this guide, imageio will be used as it provides an easy interface for reading and writing a variety of visual data such as images, videos, and volumetric data. By using imageio, images will be read straight into NumPy arrays.\n",
    "\n",
    "To run the code below in VS Code or GitHub Codespaces, make sure to install the extension Python Image Preview."
   ]
  },
  {
   "cell_type": "code",
   "execution_count": 1,
   "metadata": {
    "collapsed": true
   },
   "outputs": [
    {
     "ename": "ModuleNotFoundError",
     "evalue": "No module named 'imageio'",
     "output_type": "error",
     "traceback": [
      "\u001b[0;31m---------------------------------------------------------------------------\u001b[0m",
      "\u001b[0;31mModuleNotFoundError\u001b[0m                       Traceback (most recent call last)",
      "Cell \u001b[0;32mIn[1], line 1\u001b[0m\n\u001b[0;32m----> 1\u001b[0m \u001b[38;5;28;01mimport\u001b[39;00m \u001b[38;5;21;01mimageio\u001b[39;00m\n",
      "\u001b[0;31mModuleNotFoundError\u001b[0m: No module named 'imageio'"
     ]
    }
   ],
   "source": [
    "import imageio"
   ]
  },
  {
   "cell_type": "markdown",
   "metadata": {},
   "source": [
    "Reading and writing images can be done using the [`imageio.imread`](https://imageio.readthedocs.io/en/latest/userapi.html) and [`imageio.imwrite`](https://imageio.readthedocs.io/en/latest/userapi.html) functions, respectively."
   ]
  },
  {
   "cell_type": "markdown",
   "metadata": {},
   "source": [
    "## Images as NumPy arrays"
   ]
  },
  {
   "cell_type": "markdown",
   "metadata": {},
   "source": [
    "Now that we know how to read images, let's read an image and display it using matplotlib."
   ]
  },
  {
   "cell_type": "code",
   "execution_count": 2,
   "metadata": {},
   "outputs": [
    {
     "ename": "NameError",
     "evalue": "name 'imageio' is not defined",
     "output_type": "error",
     "traceback": [
      "\u001b[0;31m---------------------------------------------------------------------------\u001b[0m",
      "\u001b[0;31mNameError\u001b[0m                                 Traceback (most recent call last)",
      "Cell \u001b[0;32mIn[2], line 1\u001b[0m\n\u001b[0;32m----> 1\u001b[0m image \u001b[38;5;241m=\u001b[39m \u001b[43mimageio\u001b[49m\u001b[38;5;241m.\u001b[39mimread(\u001b[38;5;124m'\u001b[39m\u001b[38;5;124m./sunken-garden.jpg\u001b[39m\u001b[38;5;124m'\u001b[39m)\n",
      "\u001b[0;31mNameError\u001b[0m: name 'imageio' is not defined"
     ]
    }
   ],
   "source": [
    "image = imageio.imread('./sunken-garden.jpg')"
   ]
  },
  {
   "cell_type": "markdown",
   "metadata": {},
   "source": [
    "Now, let's display the image we read before using matplotlib. In this example, the pixel interpolation has been forced to use nearest neighbour. This is especially useful when dealing with small images as we can see each pixel clearly."
   ]
  },
  {
   "cell_type": "code",
   "execution_count": null,
   "metadata": {},
   "outputs": [],
   "source": [
    "plt.figure()\n",
    "plt.imshow(image, interpolation='nearest')\n",
    "plt.show()"
   ]
  },
  {
   "cell_type": "markdown",
   "metadata": {},
   "source": [
    "A simple colour image consists of three so-called colour channels: red, green, and blue. This means that `image` is in fact a three-dimensional array with the following shape:"
   ]
  },
  {
   "cell_type": "code",
   "execution_count": null,
   "metadata": {},
   "outputs": [],
   "source": [
    "image.shape"
   ]
  },
  {
   "cell_type": "markdown",
   "metadata": {},
   "source": [
    "The first and second axis are the rows and columns respectively, while the last axis is the number of channels. The channels can be operated on separately. The following exemplifies how each channel can be plotted on its own using subplot:"
   ]
  },
  {
   "cell_type": "code",
   "execution_count": null,
   "metadata": {},
   "outputs": [],
   "source": [
    "r = image[..., 0]  # Equivalent to image[:, :, 0]\n",
    "g = image[..., 1]\n",
    "b = image[..., 2]\n",
    "\n",
    "plt.figure(figsize=(10, 8))\n",
    "plt.subplot(131)\n",
    "plt.imshow(r, cmap=plt.cm.Reds)  # Red colour map\n",
    "plt.axis('off')\n",
    "plt.subplot(132)\n",
    "plt.imshow(g, cmap=plt.cm.Greens)  # Green colour map\n",
    "plt.axis('off')\n",
    "plt.subplot(133)\n",
    "plt.imshow(b, cmap=plt.cm.Blues)  # Blue colour map\n",
    "plt.axis('off')\n",
    "\n",
    "plt.tight_layout()\n",
    "plt.show()"
   ]
  },
  {
   "cell_type": "markdown",
   "metadata": {},
   "source": [
    "For now, let's assume that the red colour channel is a greyscale image."
   ]
  },
  {
   "cell_type": "code",
   "execution_count": null,
   "metadata": {},
   "outputs": [],
   "source": [
    "grey = image[..., 0]  # Equivalent to image[:, :, 0]\n",
    "grey.shape"
   ]
  },
  {
   "cell_type": "markdown",
   "metadata": {},
   "source": [
    "When displaying an image with a single colour channel, such as a greyscale image, it is important to specify the correct colour map. In this case, it would be natural to use the `matplotlib.cm.gray` colour map. If this is not done, matplotlib will elect to use the default colour map instead. See the difference below."
   ]
  },
  {
   "cell_type": "code",
   "execution_count": null,
   "metadata": {},
   "outputs": [],
   "source": [
    "plt.figure(figsize=(8, 6))\n",
    "plt.subplot(121)\n",
    "plt.imshow(grey)  # No colour map specified!\n",
    "plt.axis('off')\n",
    "plt.subplot(122)\n",
    "plt.imshow(grey, cmap=plt.cm.gray)\n",
    "plt.axis('off')\n",
    "\n",
    "plt.tight_layout()\n",
    "plt.show()"
   ]
  },
  {
   "cell_type": "markdown",
   "metadata": {},
   "source": [
    "Seeing as images are NumPy arrays, we can index them just like we did above. For example, we can inspect pixel intensities in a greyscale image like this:"
   ]
  },
  {
   "cell_type": "code",
   "execution_count": null,
   "metadata": {},
   "outputs": [],
   "source": [
    "grey[100, 40]"
   ]
  },
  {
   "cell_type": "markdown",
   "metadata": {},
   "source": [
    "When inspecting pixel intensities in a colour image, it is important to note that there are three values instead of one value."
   ]
  },
  {
   "cell_type": "code",
   "execution_count": null,
   "metadata": {},
   "outputs": [],
   "source": [
    "image[100, 40]"
   ]
  },
  {
   "cell_type": "markdown",
   "metadata": {},
   "source": [
    "### Exercise\n",
    "\n",
    "Adapt the code above for plotting the red channel to plot the green and blue channels of <code>image</code>."
   ]
  },
  {
   "cell_type": "code",
   "execution_count": null,
   "metadata": {},
   "outputs": [],
   "source": []
  },
  {
   "cell_type": "markdown",
   "metadata": {},
   "source": [
    "# Python Scripts\n",
    "\n",
    "Usually when we run Python code we do so by writing and running a Python script. A Python script or .py file is a text file with a Python code meant to run sequentially. As an example, the file HelloWorld.py is a script which prints the phrase \"Hello world!\".\n",
    "\n",
    "### Exercise\n",
    "\n",
    "Within the TERMINAL in your Codespace, type <code>python HelloWorld.py</code> and press ENTER. \n",
    "\n",
    "This will be similar to how you'll interact with the Holand Computing Center's supercomputer, writing scripts and using a TERMINAL to run them."
   ]
  }
 ],
 "metadata": {
  "kernelspec": {
   "display_name": "Python 3 (ipykernel)",
   "language": "python",
   "name": "python3"
  }
 },
 "nbformat": 4,
 "nbformat_minor": 1
}
